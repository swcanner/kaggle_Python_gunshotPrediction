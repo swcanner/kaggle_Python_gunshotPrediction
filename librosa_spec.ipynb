{
 "cells": [
  {
   "cell_type": "code",
   "execution_count": 1,
   "metadata": {
    "_cell_guid": "b1076dfc-b9ad-4769-8c92-a6c4dae69d19",
    "_uuid": "8f2839f25d086af736a60e9eeb907d3b93b6e0e5"
   },
   "outputs": [
    {
     "name": "stderr",
     "output_type": "stream",
     "text": [
      "Using TensorFlow backend.\n"
     ]
    },
    {
     "name": "stdout",
     "output_type": "stream",
     "text": [
      "/kaggle/input/audio-binary-classification/train_data.npy\n",
      "/kaggle/input/audio-binary-classification/train_labels.csv\n",
      "/kaggle/input/audio-binary-classification/sample_submission.csv\n",
      "/kaggle/input/audio-binary-classification/test_data.npy\n"
     ]
    }
   ],
   "source": [
    "# This Python 3 environment comes with many helpful analytics libraries installed\n",
    "# It is defined by the kaggle/python docker image: https://github.com/kaggle/docker-python\n",
    "# For example, here's several helpful packages to load in \n",
    "\n",
    "from __future__ import absolute_import\n",
    "from __future__ import division\n",
    "from __future__ import print_function\n",
    "\n",
    "\n",
    "%matplotlib inline\n",
    "import numpy as np\n",
    "import matplotlib.pyplot as plt\n",
    "import pandas as pd\n",
    "import argparse\n",
    "import librosa\n",
    "import librosa.display\n",
    "\n",
    "from keras.models import Sequential, Model\n",
    "from keras.layers import Dense, Dropout, Activation, Flatten, Lambda, Input\n",
    "from keras.layers import Conv1D, Conv2D, MaxPooling2D, MaxPooling1D, LeakyReLU\n",
    "from keras.losses import mse, binary_crossentropy\n",
    "from keras.utils import np_utils, plot_model\n",
    "from keras import backend as K\n",
    "from keras import optimizers\n",
    "from keras import regularizers\n",
    "# Input data files are available in the \"../input/\" directory.\n",
    "# For example, running this (by clicking run or pressing Shift+Enter) will list all files under the input directory\n",
    "\n",
    "import os\n",
    "for dirname, _, filenames in os.walk('/kaggle/input'):\n",
    "    for filename in filenames:\n",
    "        print(os.path.join(dirname, filename))\n",
    "\n",
    "# Any results you write to the current directory are saved as output."
   ]
  },
  {
   "cell_type": "code",
   "execution_count": 2,
   "metadata": {
    "_cell_guid": "79c7e3d0-c299-4dcb-8224-4455121ee9b0",
    "_uuid": "d629ff2d2480ee46fbb7e2d37f6b5fab8052498a"
   },
   "outputs": [
    {
     "name": "stdout",
     "output_type": "stream",
     "text": [
      "inputs loaded\n"
     ]
    }
   ],
   "source": [
    "train_data = np.load('/kaggle/input/audio-binary-classification/train_data.npy');\n",
    "test_data = np.load('/kaggle/input/audio-binary-classification/test_data.npy');\n",
    "\n",
    "\n",
    "print(\"inputs loaded\")"
   ]
  },
  {
   "cell_type": "code",
   "execution_count": 3,
   "metadata": {},
   "outputs": [
    {
     "name": "stdout",
     "output_type": "stream",
     "text": [
      "(3999, 44100)\n",
      "(3999, 44100, 1)\n"
     ]
    }
   ],
   "source": [
    "#Scale and Reshape\n",
    "train_data = train_data.astype('float32');\n",
    "test_data = test_data.astype('float32');\n",
    "\n",
    "#Normalize Data\n",
    "#train_data /= np.amax(test_data);\n",
    "#test_data /= np.amax(test_data);\n",
    "\n",
    "print(train_data.shape);\n",
    "\n",
    "train_data = train_data.reshape(-1,44100,1);\n",
    "test_data = test_data.reshape(-1,44100,1);\n",
    "\n",
    "input_shape = train_data.shape;\n",
    "print(input_shape);"
   ]
  },
  {
   "cell_type": "code",
   "execution_count": 4,
   "metadata": {},
   "outputs": [
    {
     "name": "stdout",
     "output_type": "stream",
     "text": [
      "[0 0 0 1 0 0 1 0 1 0]\n",
      "(3999,)\n"
     ]
    }
   ],
   "source": [
    "#Look at CSV and store as array\n",
    "train_labels = pd.read_csv(\"/kaggle/input/audio-binary-classification/train_labels.csv\");\n",
    "train_labels = train_labels.values;\n",
    "train_labels = train_labels[:,1];\n",
    "print(train_labels[:10]);\n",
    "print(train_labels.shape)"
   ]
  },
  {
   "cell_type": "code",
   "execution_count": 5,
   "metadata": {},
   "outputs": [
    {
     "name": "stdout",
     "output_type": "stream",
     "text": [
      "data made noisey\n"
     ]
    }
   ],
   "source": [
    "#Modify data\n",
    "x_data = np.zeros( (train_data.shape[0] * 2 + 250, train_data.shape[1],1) );\n",
    "y_data = np.zeros( (train_labels.shape[0] * 2 + 250))\n",
    "\n",
    "x_data[:3999,:,0] = train_data[:3999,:,0];\n",
    "y_data[:3999] = train_labels[:3999];\n",
    "\n",
    "for a in range(train_data.shape[0]):\n",
    "    s = np.random.normal(1,.03,44100);\n",
    "    x_data[a+3999,:,0] = np.multiply(x_data[a,:,0],s);\n",
    "    y_data[a+3999] = train_labels[a];\n",
    "        \n",
    "b = 0;\n",
    "\n",
    "for a in range(train_data.shape[0]):\n",
    "    if(train_labels[a] == 1):\n",
    "        s = np.random.normal(1,.03,44100);\n",
    "        x_data[2*3999+b,:,0] = np.multiply(x_data[a,:,0],s);\n",
    "        y_data[2*3999+b] = train_labels[a];\n",
    "        b += 1;\n",
    "    if(b >= 250):\n",
    "        break;\n",
    "        \n",
    "print(\"data made noisey\")\n",
    "        "
   ]
  },
  {
   "cell_type": "code",
   "execution_count": 6,
   "metadata": {},
   "outputs": [],
   "source": [
    "def spec(arr):\n",
    "    sr = 44.1;\n",
    "    mfcc = librosa.feature.mfcc(y=arr,sr=sr,n_mfcc=40);\n",
    "    return mfcc;"
   ]
  },
  {
   "cell_type": "code",
   "execution_count": 7,
   "metadata": {},
   "outputs": [
    {
     "name": "stdout",
     "output_type": "stream",
     "text": [
      "(40, 87)\n",
      "spectrograms created\n"
     ]
    }
   ],
   "source": [
    "a = spec(x_data[4,:,0]);\n",
    "print(a.shape)\n",
    "x_train = np.zeros( (x_data.shape[0], a.shape[0],a.shape[1],1) );\n",
    "x_test = np.zeros( (test_data.shape[0], a.shape[0],a.shape[1],1) )\n",
    "\n",
    "for i in range(x_data.shape[0]):\n",
    "    x_train[i,:,:,0] = spec(x_data[i,:,0]);\n",
    "\n",
    "for i in range(x_test.shape[0]):\n",
    "    x_test[i,:,:,0] = spec(test_data[i,:,0]);\n",
    "    \n",
    "print(\"spectrograms created\");"
   ]
  },
  {
   "cell_type": "code",
   "execution_count": 8,
   "metadata": {},
   "outputs": [
    {
     "name": "stdout",
     "output_type": "stream",
     "text": [
      "_________________________________________________________________\n",
      "Layer (type)                 Output Shape              Param #   \n",
      "=================================================================\n",
      "conv2d_1 (Conv2D)            (None, 36, 83, 164)       4264      \n",
      "_________________________________________________________________\n",
      "leaky_re_lu_1 (LeakyReLU)    (None, 36, 83, 164)       0         \n",
      "_________________________________________________________________\n",
      "max_pooling2d_1 (MaxPooling2 (None, 18, 41, 164)       0         \n",
      "_________________________________________________________________\n",
      "dropout_1 (Dropout)          (None, 18, 41, 164)       0         \n",
      "_________________________________________________________________\n",
      "conv2d_2 (Conv2D)            (None, 13, 36, 128)       755840    \n",
      "_________________________________________________________________\n",
      "leaky_re_lu_2 (LeakyReLU)    (None, 13, 36, 128)       0         \n",
      "_________________________________________________________________\n",
      "max_pooling2d_2 (MaxPooling2 (None, 4, 12, 128)        0         \n",
      "_________________________________________________________________\n",
      "dropout_2 (Dropout)          (None, 4, 12, 128)        0         \n",
      "_________________________________________________________________\n",
      "conv2d_3 (Conv2D)            (None, 2, 10, 64)         73792     \n",
      "_________________________________________________________________\n",
      "leaky_re_lu_3 (LeakyReLU)    (None, 2, 10, 64)         0         \n",
      "_________________________________________________________________\n",
      "max_pooling2d_3 (MaxPooling2 (None, 1, 5, 64)          0         \n",
      "_________________________________________________________________\n",
      "dropout_3 (Dropout)          (None, 1, 5, 64)          0         \n",
      "_________________________________________________________________\n",
      "flatten_1 (Flatten)          (None, 320)               0         \n",
      "_________________________________________________________________\n",
      "dense_1 (Dense)              (None, 128)               41088     \n",
      "_________________________________________________________________\n",
      "leaky_re_lu_4 (LeakyReLU)    (None, 128)               0         \n",
      "_________________________________________________________________\n",
      "dropout_4 (Dropout)          (None, 128)               0         \n",
      "_________________________________________________________________\n",
      "dense_2 (Dense)              (None, 64)                8256      \n",
      "_________________________________________________________________\n",
      "leaky_re_lu_5 (LeakyReLU)    (None, 64)                0         \n",
      "_________________________________________________________________\n",
      "dropout_5 (Dropout)          (None, 64)                0         \n",
      "_________________________________________________________________\n",
      "dense_3 (Dense)              (None, 32)                2080      \n",
      "_________________________________________________________________\n",
      "leaky_re_lu_6 (LeakyReLU)    (None, 32)                0         \n",
      "_________________________________________________________________\n",
      "dropout_6 (Dropout)          (None, 32)                0         \n",
      "_________________________________________________________________\n",
      "dense_4 (Dense)              (None, 1)                 33        \n",
      "=================================================================\n",
      "Total params: 885,353\n",
      "Trainable params: 885,353\n",
      "Non-trainable params: 0\n",
      "_________________________________________________________________\n"
     ]
    }
   ],
   "source": [
    "# create convolution neural network\n",
    "model = Sequential()\n",
    "model.add(Conv2D(164, kernel_size=(5,5),\n",
    "                 input_shape=(40,87,1)))\n",
    "model.add(LeakyReLU(alpha=0.05))\n",
    "model.add(MaxPooling2D(pool_size=(2,2)))\n",
    "model.add(Dropout(0.45))\n",
    "\n",
    "model.add(Conv2D(128, (6,6)))\n",
    "model.add(LeakyReLU(alpha=0.05))\n",
    "model.add(MaxPooling2D(pool_size=(3,3)))\n",
    "model.add(Dropout(0.45))\n",
    "\n",
    "model.add(Conv2D(64, (3,3)))\n",
    "model.add(LeakyReLU(alpha=0.05))\n",
    "model.add(MaxPooling2D(pool_size=(2,2)))\n",
    "model.add(Dropout(0.33))\n",
    "\n",
    "model.add(Flatten())\n",
    "model.add(Dense(128))\n",
    "model.add(LeakyReLU(alpha=0.05))\n",
    "model.add(Dropout(0.33))\n",
    "\n",
    "model.add(Dense(64))\n",
    "model.add(LeakyReLU(alpha=0.05))\n",
    "model.add(Dropout(0.5))\n",
    "\n",
    "model.add(Dense(32))\n",
    "model.add(LeakyReLU(alpha=0.05))\n",
    "model.add(Dropout(0.5))\n",
    "\n",
    "model.add(Dense(1, activation='sigmoid'))\n",
    "\n",
    "model.summary();"
   ]
  },
  {
   "cell_type": "code",
   "execution_count": 9,
   "metadata": {},
   "outputs": [],
   "source": [
    "#Compile model\n",
    "sgd = optimizers.SGD(lr=.01);\n",
    "model.compile(loss='MSE', \n",
    "              optimizer='sgd', \n",
    "              metrics=['accuracy'])"
   ]
  },
  {
   "cell_type": "code",
   "execution_count": 10,
   "metadata": {},
   "outputs": [
    {
     "name": "stdout",
     "output_type": "stream",
     "text": [
      "Epoch 1/1500\n",
      "8248/8248 [==============================] - 11s 1ms/step - loss: 0.1662 - acc: 0.8281\n",
      "Epoch 2/1500\n",
      "8248/8248 [==============================] - 4s 534us/step - loss: 0.1512 - acc: 0.8476\n",
      "Epoch 3/1500\n",
      "8248/8248 [==============================] - 4s 537us/step - loss: 0.1509 - acc: 0.8478\n",
      "Epoch 4/1500\n",
      "8248/8248 [==============================] - 4s 528us/step - loss: 0.1497 - acc: 0.8497\n",
      "Epoch 5/1500\n",
      "8248/8248 [==============================] - 4s 526us/step - loss: 0.1496 - acc: 0.8499\n",
      "Epoch 6/1500\n",
      "8248/8248 [==============================] - 4s 530us/step - loss: 0.1497 - acc: 0.8500\n",
      "Epoch 7/1500\n",
      "8248/8248 [==============================] - 4s 526us/step - loss: 0.1495 - acc: 0.8497\n",
      "Epoch 8/1500\n",
      "8248/8248 [==============================] - 4s 529us/step - loss: 0.1493 - acc: 0.8501\n",
      "Epoch 9/1500\n",
      "8248/8248 [==============================] - 4s 524us/step - loss: 0.1501 - acc: 0.8497\n",
      "Epoch 10/1500\n",
      "8248/8248 [==============================] - 4s 526us/step - loss: 0.1492 - acc: 0.8505\n",
      "Epoch 11/1500\n",
      "8248/8248 [==============================] - 4s 532us/step - loss: 0.1487 - acc: 0.8510\n",
      "Epoch 12/1500\n",
      "8248/8248 [==============================] - 4s 526us/step - loss: 0.1491 - acc: 0.8508\n",
      "Epoch 13/1500\n",
      "8248/8248 [==============================] - 4s 528us/step - loss: 0.1491 - acc: 0.8508\n",
      "Epoch 14/1500\n",
      "8248/8248 [==============================] - 4s 524us/step - loss: 0.1491 - acc: 0.8503\n",
      "Epoch 15/1500\n",
      "8248/8248 [==============================] - 4s 528us/step - loss: 0.1489 - acc: 0.8505\n",
      "Epoch 16/1500\n",
      "8248/8248 [==============================] - 4s 525us/step - loss: 0.1488 - acc: 0.8510\n",
      "Epoch 17/1500\n",
      "8248/8248 [==============================] - 4s 529us/step - loss: 0.1490 - acc: 0.8508\n",
      "Epoch 18/1500\n",
      "8248/8248 [==============================] - 4s 529us/step - loss: 0.1489 - acc: 0.8511\n",
      "Epoch 19/1500\n",
      "8248/8248 [==============================] - 4s 525us/step - loss: 0.1489 - acc: 0.8510\n",
      "Epoch 20/1500\n",
      "8248/8248 [==============================] - 4s 526us/step - loss: 0.1489 - acc: 0.8509\n",
      "Epoch 21/1500\n",
      "8248/8248 [==============================] - 4s 526us/step - loss: 0.1487 - acc: 0.8512\n",
      "Epoch 22/1500\n",
      "8248/8248 [==============================] - 4s 532us/step - loss: 0.1486 - acc: 0.8512\n",
      "Epoch 23/1500\n",
      "8248/8248 [==============================] - 4s 525us/step - loss: 0.1486 - acc: 0.8514\n",
      "Epoch 24/1500\n",
      "8248/8248 [==============================] - 4s 527us/step - loss: 0.1487 - acc: 0.8510\n",
      "Epoch 25/1500\n",
      "8248/8248 [==============================] - 4s 526us/step - loss: 0.1488 - acc: 0.8511\n",
      "Epoch 26/1500\n",
      "8248/8248 [==============================] - 4s 524us/step - loss: 0.1489 - acc: 0.8509\n",
      "Epoch 27/1500\n",
      "8248/8248 [==============================] - 4s 529us/step - loss: 0.1486 - acc: 0.8512\n",
      "Epoch 28/1500\n",
      "8248/8248 [==============================] - 4s 524us/step - loss: 0.1487 - acc: 0.8512\n",
      "Epoch 29/1500\n",
      "8248/8248 [==============================] - 4s 526us/step - loss: 0.1488 - acc: 0.8510\n",
      "Epoch 30/1500\n",
      "8248/8248 [==============================] - 4s 526us/step - loss: 0.1490 - acc: 0.8508\n",
      "Epoch 31/1500\n",
      "8248/8248 [==============================] - 4s 529us/step - loss: 0.1486 - acc: 0.8514\n",
      "Epoch 32/1500\n",
      "8248/8248 [==============================] - 4s 526us/step - loss: 0.1487 - acc: 0.8512\n",
      "Epoch 33/1500\n",
      "8248/8248 [==============================] - 4s 524us/step - loss: 0.1487 - acc: 0.8512\n",
      "Epoch 34/1500\n",
      "8248/8248 [==============================] - 4s 527us/step - loss: 0.1487 - acc: 0.8512\n",
      "Epoch 35/1500\n",
      "8248/8248 [==============================] - 4s 524us/step - loss: 0.1487 - acc: 0.8511\n",
      "Epoch 36/1500\n",
      "8248/8248 [==============================] - 4s 527us/step - loss: 0.1486 - acc: 0.8514\n",
      "Epoch 37/1500\n",
      "8248/8248 [==============================] - 4s 527us/step - loss: 0.1488 - acc: 0.8511\n",
      "Epoch 38/1500\n",
      "8248/8248 [==============================] - 4s 530us/step - loss: 0.1487 - acc: 0.8512\n",
      "Epoch 39/1500\n",
      "8248/8248 [==============================] - 5s 576us/step - loss: 0.1487 - acc: 0.8512\n",
      "Epoch 40/1500\n",
      "8248/8248 [==============================] - 4s 530us/step - loss: 0.1486 - acc: 0.8512\n",
      "Epoch 41/1500\n",
      "8248/8248 [==============================] - 4s 528us/step - loss: 0.1489 - acc: 0.8510\n",
      "Epoch 42/1500\n",
      "8248/8248 [==============================] - 4s 525us/step - loss: 0.1486 - acc: 0.8512\n",
      "Epoch 43/1500\n",
      "8248/8248 [==============================] - 4s 525us/step - loss: 0.1486 - acc: 0.8514\n",
      "Epoch 44/1500\n",
      "8248/8248 [==============================] - 4s 524us/step - loss: 0.1487 - acc: 0.8512\n",
      "Epoch 45/1500\n",
      "8248/8248 [==============================] - 4s 527us/step - loss: 0.1488 - acc: 0.8510\n",
      "Epoch 46/1500\n",
      "8248/8248 [==============================] - 4s 526us/step - loss: 0.1487 - acc: 0.8514\n",
      "Epoch 47/1500\n",
      "8248/8248 [==============================] - 4s 526us/step - loss: 0.1485 - acc: 0.8515\n",
      "Epoch 48/1500\n",
      "8248/8248 [==============================] - 4s 526us/step - loss: 0.1489 - acc: 0.8510\n",
      "Epoch 49/1500\n",
      "8248/8248 [==============================] - 4s 526us/step - loss: 0.1486 - acc: 0.8514\n",
      "Epoch 50/1500\n",
      "8248/8248 [==============================] - 4s 528us/step - loss: 0.1488 - acc: 0.8512\n",
      "Epoch 51/1500\n",
      "8248/8248 [==============================] - 4s 524us/step - loss: 0.1486 - acc: 0.8511\n",
      "Epoch 52/1500\n",
      "8248/8248 [==============================] - 4s 528us/step - loss: 0.1487 - acc: 0.8512\n",
      "Epoch 53/1500\n",
      "8248/8248 [==============================] - 4s 527us/step - loss: 0.1486 - acc: 0.8512\n",
      "Epoch 54/1500\n",
      "8248/8248 [==============================] - 4s 527us/step - loss: 0.1486 - acc: 0.8514\n",
      "Epoch 55/1500\n",
      "8248/8248 [==============================] - 4s 526us/step - loss: 0.1489 - acc: 0.8510\n",
      "Epoch 56/1500\n",
      "8248/8248 [==============================] - 4s 533us/step - loss: 0.1488 - acc: 0.8510\n",
      "Epoch 57/1500\n",
      "8248/8248 [==============================] - 4s 526us/step - loss: 0.1484 - acc: 0.8515\n",
      "Epoch 58/1500\n",
      "8248/8248 [==============================] - 4s 530us/step - loss: 0.1487 - acc: 0.8511\n",
      "Epoch 59/1500\n",
      "8248/8248 [==============================] - 4s 535us/step - loss: 0.1484 - acc: 0.8514\n",
      "Epoch 60/1500\n",
      "8248/8248 [==============================] - 4s 533us/step - loss: 0.1486 - acc: 0.8514\n",
      "Epoch 61/1500\n",
      "8248/8248 [==============================] - 4s 526us/step - loss: 0.1484 - acc: 0.8515\n",
      "Epoch 62/1500\n",
      "8248/8248 [==============================] - 4s 524us/step - loss: 0.1487 - acc: 0.8512\n",
      "Epoch 63/1500\n",
      "8248/8248 [==============================] - 4s 526us/step - loss: 0.1487 - acc: 0.8511\n",
      "Epoch 64/1500\n",
      "8248/8248 [==============================] - 4s 528us/step - loss: 0.1487 - acc: 0.8512\n",
      "Epoch 65/1500\n",
      "8248/8248 [==============================] - 4s 524us/step - loss: 0.1487 - acc: 0.8512\n",
      "Epoch 66/1500\n",
      "8248/8248 [==============================] - 4s 525us/step - loss: 0.1488 - acc: 0.8511\n",
      "Epoch 67/1500\n",
      "8248/8248 [==============================] - 4s 534us/step - loss: 0.1487 - acc: 0.8512\n",
      "Epoch 68/1500\n",
      "8248/8248 [==============================] - 4s 537us/step - loss: 0.1485 - acc: 0.8515\n",
      "Epoch 69/1500\n",
      "8248/8248 [==============================] - 4s 532us/step - loss: 0.1487 - acc: 0.8512\n",
      "Epoch 70/1500\n",
      "8248/8248 [==============================] - 4s 525us/step - loss: 0.1487 - acc: 0.8514\n",
      "Epoch 71/1500\n",
      "8248/8248 [==============================] - 4s 524us/step - loss: 0.1488 - acc: 0.8509\n",
      "Epoch 72/1500\n",
      "8248/8248 [==============================] - 4s 529us/step - loss: 0.1487 - acc: 0.8512\n",
      "Epoch 73/1500\n",
      "8248/8248 [==============================] - 4s 537us/step - loss: 0.1487 - acc: 0.8512\n",
      "Epoch 74/1500\n",
      "8248/8248 [==============================] - 4s 525us/step - loss: 0.1489 - acc: 0.8510\n",
      "Epoch 75/1500\n",
      "8248/8248 [==============================] - 4s 528us/step - loss: 0.1486 - acc: 0.8512\n",
      "Epoch 76/1500\n",
      "8248/8248 [==============================] - 4s 525us/step - loss: 0.1487 - acc: 0.8514\n",
      "Epoch 77/1500\n",
      "8248/8248 [==============================] - 4s 527us/step - loss: 0.1487 - acc: 0.8512\n",
      "Epoch 78/1500\n",
      "8248/8248 [==============================] - 4s 525us/step - loss: 0.1486 - acc: 0.8514\n",
      "Epoch 79/1500\n",
      "8248/8248 [==============================] - 4s 525us/step - loss: 0.1484 - acc: 0.8514\n",
      "Epoch 80/1500\n",
      "8248/8248 [==============================] - 4s 529us/step - loss: 0.1487 - acc: 0.8512\n",
      "Epoch 81/1500\n",
      "8248/8248 [==============================] - 4s 525us/step - loss: 0.1487 - acc: 0.8511\n",
      "Epoch 82/1500\n",
      "8248/8248 [==============================] - 4s 528us/step - loss: 0.1486 - acc: 0.8514\n",
      "Epoch 83/1500\n",
      "6540/8248 [======================>.......] - ETA: 0s - loss: 0.1505 - acc: 0.8497"
     ]
    }
   ],
   "source": [
    "history = model.fit(x_train,y_data, shuffle=True,\n",
    "          batch_size=30,epochs=1500,verbose=1)"
   ]
  },
  {
   "cell_type": "code",
   "execution_count": 11,
   "metadata": {},
   "outputs": [
    {
     "name": "stdout",
     "output_type": "stream",
     "text": [
      "[[0.]\n",
      " [0.]\n",
      " [0.]\n",
      " ...\n",
      " [0.]\n",
      " [0.]\n",
      " [1.]]\n",
      "      Label\n",
      "Id         \n",
      "0       0.0\n",
      "1       0.0\n",
      "2       0.0\n",
      "3       0.0\n",
      "4       0.0\n",
      "...     ...\n",
      "3992    0.0\n",
      "3993    0.0\n",
      "3994    0.0\n",
      "3995    0.0\n",
      "3996    1.0\n",
      "\n",
      "[3997 rows x 1 columns]\n"
     ]
    }
   ],
   "source": [
    "Y_pred = model.predict(x_test);\n",
    "print(Y_pred)\n",
    "df_pred = pd.DataFrame(Y_pred);\n",
    "df_pred.index.name = \"Id\"\n",
    "df_pred = pd.DataFrame.rename(df_pred,columns={0:\"Label\"})\n",
    "print(df_pred);\n",
    "df_pred.to_csv(\"output.csv\")"
   ]
  }
 ],
 "metadata": {
  "kernelspec": {
   "display_name": "Python 3",
   "language": "python",
   "name": "python3"
  },
  "language_info": {
   "codemirror_mode": {
    "name": "ipython",
    "version": 3
   },
   "file_extension": ".py",
   "mimetype": "text/x-python",
   "name": "python",
   "nbconvert_exporter": "python",
   "pygments_lexer": "ipython3",
   "version": "3.6.6"
  }
 },
 "nbformat": 4,
 "nbformat_minor": 1
}
