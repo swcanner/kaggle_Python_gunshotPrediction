{
 "cells": [
  {
   "cell_type": "code",
   "execution_count": 1,
   "metadata": {
    "_cell_guid": "b1076dfc-b9ad-4769-8c92-a6c4dae69d19",
    "_uuid": "8f2839f25d086af736a60e9eeb907d3b93b6e0e5"
   },
   "outputs": [
    {
     "name": "stderr",
     "output_type": "stream",
     "text": [
      "Using TensorFlow backend.\n"
     ]
    },
    {
     "name": "stdout",
     "output_type": "stream",
     "text": [
      "/kaggle/input/audio-binary-classification/train_data.npy\n",
      "/kaggle/input/audio-binary-classification/train_labels.csv\n",
      "/kaggle/input/audio-binary-classification/sample_submission.csv\n",
      "/kaggle/input/audio-binary-classification/test_data.npy\n"
     ]
    }
   ],
   "source": [
    "# This Python 3 environment comes with many helpful analytics libraries installed\n",
    "# It is defined by the kaggle/python docker image: https://github.com/kaggle/docker-python\n",
    "# For example, here's several helpful packages to load in \n",
    "\n",
    "from __future__ import absolute_import\n",
    "from __future__ import division\n",
    "from __future__ import print_function\n",
    "\n",
    "\n",
    "%matplotlib inline\n",
    "import numpy as np\n",
    "import matplotlib.pyplot as plt\n",
    "import pandas as pd\n",
    "import argparse\n",
    "\n",
    "from keras.models import Sequential, Model\n",
    "from keras.layers import Dense, Dropout, Activation, Flatten, Lambda, Input\n",
    "from keras.layers import Conv1D, Conv2D, MaxPooling2D, MaxPooling1D, LeakyReLU, LSTM\n",
    "from keras.losses import mse, binary_crossentropy\n",
    "from keras.utils import np_utils, plot_model\n",
    "from keras import backend as K\n",
    "from keras import optimizers\n",
    "from keras import regularizers\n",
    "# Input data files are available in the \"../input/\" directory.\n",
    "# For example, running this (by clicking run or pressing Shift+Enter) will list all files under the input directory\n",
    "\n",
    "import os\n",
    "for dirname, _, filenames in os.walk('/kaggle/input'):\n",
    "    for filename in filenames:\n",
    "        print(os.path.join(dirname, filename))\n",
    "\n",
    "# Any results you write to the current directory are saved as output."
   ]
  },
  {
   "cell_type": "code",
   "execution_count": 2,
   "metadata": {
    "_cell_guid": "79c7e3d0-c299-4dcb-8224-4455121ee9b0",
    "_uuid": "d629ff2d2480ee46fbb7e2d37f6b5fab8052498a"
   },
   "outputs": [
    {
     "name": "stdout",
     "output_type": "stream",
     "text": [
      "inputs loaded\n"
     ]
    }
   ],
   "source": [
    "train_data = np.load('/kaggle/input/audio-binary-classification/train_data.npy');\n",
    "test_data = np.load('/kaggle/input/audio-binary-classification/test_data.npy');\n",
    "\n",
    "\n",
    "print(\"inputs loaded\")"
   ]
  },
  {
   "cell_type": "code",
   "execution_count": 3,
   "metadata": {},
   "outputs": [
    {
     "name": "stdout",
     "output_type": "stream",
     "text": [
      "(3999, 44100)\n",
      "(3999, 44100, 1)\n"
     ]
    }
   ],
   "source": [
    "#Scale and Reshape\n",
    "train_data = train_data.astype('float32');\n",
    "test_data = test_data.astype('float32');\n",
    "\n",
    "#Normalize Data\n",
    "#train_data /= np.amax(test_data);\n",
    "#test_data /= np.amax(test_data);\n",
    "\n",
    "print(train_data.shape);\n",
    "\n",
    "train_data = train_data.reshape(-1,44100,1);\n",
    "test_data = test_data.reshape(-1,44100,1);\n",
    "\n",
    "input_shape = train_data.shape;\n",
    "print(input_shape);"
   ]
  },
  {
   "cell_type": "code",
   "execution_count": 4,
   "metadata": {},
   "outputs": [
    {
     "name": "stdout",
     "output_type": "stream",
     "text": [
      "[0 0 0 1 0 0 1 0 1 0]\n",
      "(3999,)\n"
     ]
    }
   ],
   "source": [
    "#Look at CSV and store as array\n",
    "train_labels = pd.read_csv(\"/kaggle/input/audio-binary-classification/train_labels.csv\");\n",
    "train_labels = train_labels.values;\n",
    "train_labels = train_labels[:,1];\n",
    "print(train_labels[:10]);\n",
    "print(train_labels.shape)"
   ]
  },
  {
   "cell_type": "code",
   "execution_count": 5,
   "metadata": {},
   "outputs": [
    {
     "name": "stdout",
     "output_type": "stream",
     "text": [
      "_________________________________________________________________\n",
      "Layer (type)                 Output Shape              Param #   \n",
      "=================================================================\n",
      "lstm_1 (LSTM)                (None, 44100, 16)         1152      \n",
      "_________________________________________________________________\n",
      "leaky_re_lu_1 (LeakyReLU)    (None, 44100, 16)         0         \n",
      "_________________________________________________________________\n",
      "dropout_1 (Dropout)          (None, 44100, 16)         0         \n",
      "_________________________________________________________________\n",
      "flatten_1 (Flatten)          (None, 705600)            0         \n",
      "_________________________________________________________________\n",
      "dense_1 (Dense)              (None, 16)                11289616  \n",
      "_________________________________________________________________\n",
      "leaky_re_lu_2 (LeakyReLU)    (None, 16)                0         \n",
      "_________________________________________________________________\n",
      "dropout_2 (Dropout)          (None, 16)                0         \n",
      "_________________________________________________________________\n",
      "dense_2 (Dense)              (None, 1)                 17        \n",
      "=================================================================\n",
      "Total params: 11,290,785\n",
      "Trainable params: 11,290,785\n",
      "Non-trainable params: 0\n",
      "_________________________________________________________________\n"
     ]
    }
   ],
   "source": [
    "# create convolution neural network\n",
    "model = Sequential()\n",
    "model.add(LSTM(16, input_shape=(44100,1),return_sequences=True))\n",
    "model.add(LeakyReLU(alpha=0.05))\n",
    "model.add(Dropout(0.2))\n",
    "\n",
    "#model.add(MaxPooling1D(pool_size=128))\n",
    "\n",
    "model.add(Flatten())\n",
    "\n",
    "model.add(Dense(16))\n",
    "model.add(LeakyReLU(alpha=0.05))\n",
    "model.add(Dropout(0.33))\n",
    "\n",
    "model.add(Dense(1, activation='sigmoid'))\n",
    "\n",
    "model.summary();"
   ]
  },
  {
   "cell_type": "code",
   "execution_count": 6,
   "metadata": {},
   "outputs": [],
   "source": [
    "#Compile model\n",
    "sgd = optimizers.SGD(lr=.01);\n",
    "model.compile(loss='MSE', \n",
    "              optimizer='sgd',\n",
    "              metrics=['accuracy'])"
   ]
  },
  {
   "cell_type": "code",
   "execution_count": 7,
   "metadata": {},
   "outputs": [
    {
     "name": "stdout",
     "output_type": "stream",
     "text": [
      "Epoch 1/4\n",
      "3999/3999 [==============================] - 4171s 1s/step - loss: 0.1311 - acc: 0.8712\n",
      "Epoch 2/4\n",
      "3999/3999 [==============================] - 4163s 1s/step - loss: 0.1126 - acc: 0.8780\n",
      "Epoch 3/4\n",
      "3999/3999 [==============================] - 4237s 1s/step - loss: 0.1103 - acc: 0.8780\n",
      "Epoch 4/4\n",
      "3999/3999 [==============================] - 4256s 1s/step - loss: 0.1116 - acc: 0.8780\n"
     ]
    },
    {
     "data": {
      "text/plain": [
       "<keras.callbacks.History at 0x7f4bf422d3c8>"
      ]
     },
     "execution_count": 7,
     "metadata": {},
     "output_type": "execute_result"
    }
   ],
   "source": [
    "model.fit(train_data,train_labels,\n",
    "          batch_size=30,epochs=4,verbose=1)"
   ]
  },
  {
   "cell_type": "code",
   "execution_count": 8,
   "metadata": {},
   "outputs": [
    {
     "name": "stdout",
     "output_type": "stream",
     "text": [
      "[[0.12664011]\n",
      " [0.12780091]\n",
      " [0.12804177]\n",
      " ...\n",
      " [0.12678288]\n",
      " [0.12736703]\n",
      " [0.12791583]]\n",
      "         Label\n",
      "Id            \n",
      "0     0.126640\n",
      "1     0.127801\n",
      "2     0.128042\n",
      "3     0.126385\n",
      "4     0.126788\n",
      "...        ...\n",
      "3992  0.128003\n",
      "3993  0.126775\n",
      "3994  0.126783\n",
      "3995  0.127367\n",
      "3996  0.127916\n",
      "\n",
      "[3997 rows x 1 columns]\n"
     ]
    }
   ],
   "source": [
    "model.save(\"lstm_failure.h5\")\n",
    "Y_pred = model.predict(test_data);\n",
    "print(Y_pred)\n",
    "df_pred = pd.DataFrame(Y_pred);\n",
    "df_pred.index.name = \"Id\"\n",
    "df_pred = pd.DataFrame.rename(df_pred,columns={0:\"Label\"})\n",
    "print(df_pred);\n",
    "df_pred.to_csv(\"output.csv\")"
   ]
  }
 ],
 "metadata": {
  "kernelspec": {
   "display_name": "Python 3",
   "language": "python",
   "name": "python3"
  },
  "language_info": {
   "codemirror_mode": {
    "name": "ipython",
    "version": 3
   },
   "file_extension": ".py",
   "mimetype": "text/x-python",
   "name": "python",
   "nbconvert_exporter": "python",
   "pygments_lexer": "ipython3",
   "version": "3.6.6"
  }
 },
 "nbformat": 4,
 "nbformat_minor": 1
}
