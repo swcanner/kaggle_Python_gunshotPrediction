{
 "cells": [
  {
   "cell_type": "code",
   "execution_count": 1,
   "metadata": {
    "_cell_guid": "b1076dfc-b9ad-4769-8c92-a6c4dae69d19",
    "_uuid": "8f2839f25d086af736a60e9eeb907d3b93b6e0e5"
   },
   "outputs": [
    {
     "name": "stderr",
     "output_type": "stream",
     "text": [
      "Using TensorFlow backend.\n",
      "/opt/conda/lib/python3.6/site-packages/tensorflow/python/framework/dtypes.py:516: FutureWarning: Passing (type, 1) or '1type' as a synonym of type is deprecated; in a future version of numpy, it will be understood as (type, (1,)) / '(1,)type'.\n",
      "  _np_qint8 = np.dtype([(\"qint8\", np.int8, 1)])\n",
      "/opt/conda/lib/python3.6/site-packages/tensorflow/python/framework/dtypes.py:517: FutureWarning: Passing (type, 1) or '1type' as a synonym of type is deprecated; in a future version of numpy, it will be understood as (type, (1,)) / '(1,)type'.\n",
      "  _np_quint8 = np.dtype([(\"quint8\", np.uint8, 1)])\n",
      "/opt/conda/lib/python3.6/site-packages/tensorflow/python/framework/dtypes.py:518: FutureWarning: Passing (type, 1) or '1type' as a synonym of type is deprecated; in a future version of numpy, it will be understood as (type, (1,)) / '(1,)type'.\n",
      "  _np_qint16 = np.dtype([(\"qint16\", np.int16, 1)])\n",
      "/opt/conda/lib/python3.6/site-packages/tensorflow/python/framework/dtypes.py:519: FutureWarning: Passing (type, 1) or '1type' as a synonym of type is deprecated; in a future version of numpy, it will be understood as (type, (1,)) / '(1,)type'.\n",
      "  _np_quint16 = np.dtype([(\"quint16\", np.uint16, 1)])\n",
      "/opt/conda/lib/python3.6/site-packages/tensorflow/python/framework/dtypes.py:520: FutureWarning: Passing (type, 1) or '1type' as a synonym of type is deprecated; in a future version of numpy, it will be understood as (type, (1,)) / '(1,)type'.\n",
      "  _np_qint32 = np.dtype([(\"qint32\", np.int32, 1)])\n",
      "/opt/conda/lib/python3.6/site-packages/tensorflow/python/framework/dtypes.py:525: FutureWarning: Passing (type, 1) or '1type' as a synonym of type is deprecated; in a future version of numpy, it will be understood as (type, (1,)) / '(1,)type'.\n",
      "  np_resource = np.dtype([(\"resource\", np.ubyte, 1)])\n"
     ]
    },
    {
     "name": "stdout",
     "output_type": "stream",
     "text": [
      "/kaggle/input/audio-binary-classification/train_data.npy\n",
      "/kaggle/input/audio-binary-classification/train_labels.csv\n",
      "/kaggle/input/audio-binary-classification/sample_submission.csv\n",
      "/kaggle/input/audio-binary-classification/test_data.npy\n"
     ]
    },
    {
     "name": "stderr",
     "output_type": "stream",
     "text": [
      "/opt/conda/lib/python3.6/site-packages/tensorboard/compat/tensorflow_stub/dtypes.py:541: FutureWarning: Passing (type, 1) or '1type' as a synonym of type is deprecated; in a future version of numpy, it will be understood as (type, (1,)) / '(1,)type'.\n",
      "  _np_qint8 = np.dtype([(\"qint8\", np.int8, 1)])\n",
      "/opt/conda/lib/python3.6/site-packages/tensorboard/compat/tensorflow_stub/dtypes.py:542: FutureWarning: Passing (type, 1) or '1type' as a synonym of type is deprecated; in a future version of numpy, it will be understood as (type, (1,)) / '(1,)type'.\n",
      "  _np_quint8 = np.dtype([(\"quint8\", np.uint8, 1)])\n",
      "/opt/conda/lib/python3.6/site-packages/tensorboard/compat/tensorflow_stub/dtypes.py:543: FutureWarning: Passing (type, 1) or '1type' as a synonym of type is deprecated; in a future version of numpy, it will be understood as (type, (1,)) / '(1,)type'.\n",
      "  _np_qint16 = np.dtype([(\"qint16\", np.int16, 1)])\n",
      "/opt/conda/lib/python3.6/site-packages/tensorboard/compat/tensorflow_stub/dtypes.py:544: FutureWarning: Passing (type, 1) or '1type' as a synonym of type is deprecated; in a future version of numpy, it will be understood as (type, (1,)) / '(1,)type'.\n",
      "  _np_quint16 = np.dtype([(\"quint16\", np.uint16, 1)])\n",
      "/opt/conda/lib/python3.6/site-packages/tensorboard/compat/tensorflow_stub/dtypes.py:545: FutureWarning: Passing (type, 1) or '1type' as a synonym of type is deprecated; in a future version of numpy, it will be understood as (type, (1,)) / '(1,)type'.\n",
      "  _np_qint32 = np.dtype([(\"qint32\", np.int32, 1)])\n",
      "/opt/conda/lib/python3.6/site-packages/tensorboard/compat/tensorflow_stub/dtypes.py:550: FutureWarning: Passing (type, 1) or '1type' as a synonym of type is deprecated; in a future version of numpy, it will be understood as (type, (1,)) / '(1,)type'.\n",
      "  np_resource = np.dtype([(\"resource\", np.ubyte, 1)])\n"
     ]
    }
   ],
   "source": [
    "# This Python 3 environment comes with many helpful analytics libraries installed\n",
    "# It is defined by the kaggle/python docker image: https://github.com/kaggle/docker-python\n",
    "# For example, here's several helpful packages to load in \n",
    "\n",
    "%matplotlib inline\n",
    "import numpy as np\n",
    "import matplotlib.pyplot as plt\n",
    "import pandas as pd\n",
    "\n",
    "from keras.models import Sequential\n",
    "from keras.layers import Dense, Dropout, Activation, Flatten\n",
    "from keras.layers import Conv1D, Conv2D, MaxPooling2D, MaxPooling1D, LeakyReLU\n",
    "from keras.utils import np_utils\n",
    "from keras import optimizers\n",
    "from keras import regularizers\n",
    "# Input data files are available in the \"../input/\" directory.\n",
    "# For example, running this (by clicking run or pressing Shift+Enter) will list all files under the input directory\n",
    "\n",
    "import os\n",
    "for dirname, _, filenames in os.walk('/kaggle/input'):\n",
    "    for filename in filenames:\n",
    "        print(os.path.join(dirname, filename))\n",
    "\n",
    "# Any results you write to the current directory are saved as output."
   ]
  },
  {
   "cell_type": "code",
   "execution_count": 2,
   "metadata": {
    "_cell_guid": "79c7e3d0-c299-4dcb-8224-4455121ee9b0",
    "_uuid": "d629ff2d2480ee46fbb7e2d37f6b5fab8052498a"
   },
   "outputs": [
    {
     "name": "stdout",
     "output_type": "stream",
     "text": [
      "inputs loaded\n"
     ]
    }
   ],
   "source": [
    "train_data = np.load('/kaggle/input/audio-binary-classification/train_data.npy');\n",
    "test_data = np.load('/kaggle/input/audio-binary-classification/test_data.npy');\n",
    "\n",
    "\n",
    "print(\"inputs loaded\")"
   ]
  },
  {
   "cell_type": "code",
   "execution_count": 3,
   "metadata": {},
   "outputs": [
    {
     "name": "stdout",
     "output_type": "stream",
     "text": [
      "(3999, 44100)\n",
      "(3999, 44100, 1)\n"
     ]
    }
   ],
   "source": [
    "#Scale and Reshape\n",
    "train_data = train_data.astype('float32');\n",
    "test_data = test_data.astype('float32');\n",
    "\n",
    "#Normalize Data\n",
    "train_data /= np.amax(test_data);\n",
    "test_data /= np.amax(test_data);\n",
    "\n",
    "print(train_data.shape);\n",
    "\n",
    "train_data = train_data.reshape(-1,44100,1);\n",
    "test_data = test_data.reshape(-1,44100,1);\n",
    "\n",
    "input_shape = train_data.shape;\n",
    "print(input_shape);"
   ]
  },
  {
   "cell_type": "code",
   "execution_count": 4,
   "metadata": {},
   "outputs": [
    {
     "name": "stdout",
     "output_type": "stream",
     "text": [
      "[0 0 0 1 0 0 1 0 1 0]\n",
      "(3999,)\n"
     ]
    }
   ],
   "source": [
    "#Look at CSV and store as array\n",
    "train_labels = pd.read_csv(\"/kaggle/input/audio-binary-classification/train_labels.csv\");\n",
    "train_labels = train_labels.values;\n",
    "train_labels = train_labels[:,1];\n",
    "print(train_labels[:10]);\n",
    "print(train_labels.shape)"
   ]
  },
  {
   "cell_type": "code",
   "execution_count": 5,
   "metadata": {},
   "outputs": [
    {
     "name": "stdout",
     "output_type": "stream",
     "text": [
      "_________________________________________________________________\n",
      "Layer (type)                 Output Shape              Param #   \n",
      "=================================================================\n",
      "conv1d_1 (Conv1D)            (None, 44091, 32)         352       \n",
      "_________________________________________________________________\n",
      "leaky_re_lu_1 (LeakyReLU)    (None, 44091, 32)         0         \n",
      "_________________________________________________________________\n",
      "max_pooling1d_1 (MaxPooling1 (None, 11022, 32)         0         \n",
      "_________________________________________________________________\n",
      "dropout_1 (Dropout)          (None, 11022, 32)         0         \n",
      "_________________________________________________________________\n",
      "conv1d_2 (Conv1D)            (None, 11015, 64)         16448     \n",
      "_________________________________________________________________\n",
      "leaky_re_lu_2 (LeakyReLU)    (None, 11015, 64)         0         \n",
      "_________________________________________________________________\n",
      "max_pooling1d_2 (MaxPooling1 (None, 2753, 64)          0         \n",
      "_________________________________________________________________\n",
      "dropout_2 (Dropout)          (None, 2753, 64)          0         \n",
      "_________________________________________________________________\n",
      "conv1d_3 (Conv1D)            (None, 2752, 64)          8256      \n",
      "_________________________________________________________________\n",
      "leaky_re_lu_3 (LeakyReLU)    (None, 2752, 64)          0         \n",
      "_________________________________________________________________\n",
      "max_pooling1d_3 (MaxPooling1 (None, 688, 64)           0         \n",
      "_________________________________________________________________\n",
      "dropout_3 (Dropout)          (None, 688, 64)           0         \n",
      "_________________________________________________________________\n",
      "flatten_1 (Flatten)          (None, 44032)             0         \n",
      "_________________________________________________________________\n",
      "dense_1 (Dense)              (None, 64)                2818112   \n",
      "_________________________________________________________________\n",
      "leaky_re_lu_4 (LeakyReLU)    (None, 64)                0         \n",
      "_________________________________________________________________\n",
      "dropout_4 (Dropout)          (None, 64)                0         \n",
      "_________________________________________________________________\n",
      "dense_2 (Dense)              (None, 1)                 65        \n",
      "=================================================================\n",
      "Total params: 2,843,233\n",
      "Trainable params: 2,843,233\n",
      "Non-trainable params: 0\n",
      "_________________________________________________________________\n"
     ]
    }
   ],
   "source": [
    "# create convolution neural network\n",
    "model = Sequential()\n",
    "model.add(Conv1D(32, kernel_size=(10),\n",
    "                 input_shape=(44100,1)))\n",
    "model.add(LeakyReLU(alpha=0.05))\n",
    "model.add(MaxPooling1D(pool_size=4))\n",
    "model.add(Dropout(0.25))\n",
    "model.add(Conv1D(64, (8)))\n",
    "model.add(LeakyReLU(alpha=0.05))\n",
    "model.add(MaxPooling1D(pool_size=(4)))\n",
    "model.add(Dropout(0.25))\n",
    "model.add(Conv1D(64, (2)))\n",
    "model.add(LeakyReLU(alpha=0.05))\n",
    "model.add(MaxPooling1D(pool_size=(4)))\n",
    "model.add(Dropout(0.25))\n",
    "model.add(Flatten())\n",
    "model.add(Dense(64))\n",
    "model.add(LeakyReLU(alpha=0.05))\n",
    "model.add(Dropout(0.5))\n",
    "model.add(Dense(1, activation='sigmoid'))\n",
    "\n",
    "model.summary();"
   ]
  },
  {
   "cell_type": "code",
   "execution_count": 6,
   "metadata": {},
   "outputs": [],
   "source": [
    "#Compile model\n",
    "sgd = optimizers.SGD(lr=.01);\n",
    "model.compile(loss='MSE', \n",
    "              optimizer=sgd,\n",
    "              metrics=['accuracy'])"
   ]
  },
  {
   "cell_type": "code",
   "execution_count": 7,
   "metadata": {},
   "outputs": [
    {
     "name": "stdout",
     "output_type": "stream",
     "text": [
      "Epoch 1/100\n",
      "3999/3999 [==============================] - 7s 2ms/step - loss: 0.1406 - acc: 0.8615\n",
      "Epoch 2/100\n",
      "3999/3999 [==============================] - 4s 1ms/step - loss: 0.1110 - acc: 0.8780\n",
      "Epoch 3/100\n",
      "3999/3999 [==============================] - 4s 1ms/step - loss: 0.1100 - acc: 0.8780\n",
      "Epoch 4/100\n",
      "3999/3999 [==============================] - 4s 1ms/step - loss: 0.1089 - acc: 0.8780\n",
      "Epoch 5/100\n",
      "3999/3999 [==============================] - 4s 1ms/step - loss: 0.1088 - acc: 0.8780\n",
      "Epoch 6/100\n",
      "3999/3999 [==============================] - 4s 1ms/step - loss: 0.1098 - acc: 0.8780\n",
      "Epoch 7/100\n",
      "3999/3999 [==============================] - 4s 1ms/step - loss: 0.1087 - acc: 0.8780\n",
      "Epoch 8/100\n",
      "3999/3999 [==============================] - 4s 1ms/step - loss: 0.1077 - acc: 0.8780\n",
      "Epoch 9/100\n",
      "3999/3999 [==============================] - 4s 1ms/step - loss: 0.1071 - acc: 0.8780\n",
      "Epoch 10/100\n",
      "3999/3999 [==============================] - 4s 1ms/step - loss: 0.1072 - acc: 0.8780\n",
      "Epoch 11/100\n",
      "3999/3999 [==============================] - 4s 1ms/step - loss: 0.1053 - acc: 0.8780\n",
      "Epoch 12/100\n",
      "3999/3999 [==============================] - 4s 1ms/step - loss: 0.1041 - acc: 0.8780\n",
      "Epoch 13/100\n",
      "3999/3999 [==============================] - 4s 1ms/step - loss: 0.1033 - acc: 0.8780\n",
      "Epoch 14/100\n",
      "3999/3999 [==============================] - 4s 1ms/step - loss: 0.1008 - acc: 0.8782\n",
      "Epoch 15/100\n",
      "3999/3999 [==============================] - 4s 1ms/step - loss: 0.0979 - acc: 0.8780\n",
      "Epoch 16/100\n",
      "3999/3999 [==============================] - 4s 1ms/step - loss: 0.0948 - acc: 0.8795\n",
      "Epoch 17/100\n",
      "3999/3999 [==============================] - 4s 1ms/step - loss: 0.0907 - acc: 0.8812\n",
      "Epoch 18/100\n",
      "3999/3999 [==============================] - 4s 1ms/step - loss: 0.0877 - acc: 0.8825\n",
      "Epoch 19/100\n",
      "3999/3999 [==============================] - 4s 1ms/step - loss: 0.0832 - acc: 0.8900\n",
      "Epoch 20/100\n",
      "3999/3999 [==============================] - 4s 1ms/step - loss: 0.0791 - acc: 0.8950\n",
      "Epoch 21/100\n",
      "3999/3999 [==============================] - 4s 1ms/step - loss: 0.0767 - acc: 0.8985\n",
      "Epoch 22/100\n",
      "3999/3999 [==============================] - 4s 1ms/step - loss: 0.0736 - acc: 0.9020\n",
      "Epoch 23/100\n",
      "3999/3999 [==============================] - 4s 1ms/step - loss: 0.0715 - acc: 0.9080\n",
      "Epoch 24/100\n",
      "3999/3999 [==============================] - 4s 1ms/step - loss: 0.0698 - acc: 0.9115\n",
      "Epoch 25/100\n",
      "3999/3999 [==============================] - 4s 1ms/step - loss: 0.0695 - acc: 0.9110\n",
      "Epoch 26/100\n",
      "3999/3999 [==============================] - 4s 1ms/step - loss: 0.0683 - acc: 0.9137\n",
      "Epoch 27/100\n",
      "3999/3999 [==============================] - 4s 1ms/step - loss: 0.0679 - acc: 0.9145\n",
      "Epoch 28/100\n",
      "3999/3999 [==============================] - 4s 1ms/step - loss: 0.0665 - acc: 0.9132\n",
      "Epoch 29/100\n",
      "3999/3999 [==============================] - 4s 1ms/step - loss: 0.0657 - acc: 0.9152\n",
      "Epoch 30/100\n",
      "3999/3999 [==============================] - 4s 1ms/step - loss: 0.0651 - acc: 0.9190\n",
      "Epoch 31/100\n",
      "3999/3999 [==============================] - 4s 1ms/step - loss: 0.0644 - acc: 0.9165\n",
      "Epoch 32/100\n",
      "3999/3999 [==============================] - 4s 1ms/step - loss: 0.0638 - acc: 0.9180\n",
      "Epoch 33/100\n",
      "3999/3999 [==============================] - 4s 1ms/step - loss: 0.0636 - acc: 0.9197\n",
      "Epoch 34/100\n",
      "3999/3999 [==============================] - 4s 1ms/step - loss: 0.0634 - acc: 0.9210\n",
      "Epoch 35/100\n",
      "3999/3999 [==============================] - 4s 1ms/step - loss: 0.0622 - acc: 0.9195\n",
      "Epoch 36/100\n",
      "3999/3999 [==============================] - 4s 1ms/step - loss: 0.0621 - acc: 0.9197\n",
      "Epoch 37/100\n",
      "3999/3999 [==============================] - 4s 1ms/step - loss: 0.0612 - acc: 0.9205\n",
      "Epoch 38/100\n",
      "3999/3999 [==============================] - 4s 1ms/step - loss: 0.0608 - acc: 0.9202\n",
      "Epoch 39/100\n",
      "3999/3999 [==============================] - 4s 1ms/step - loss: 0.0603 - acc: 0.9202\n",
      "Epoch 40/100\n",
      "3999/3999 [==============================] - 4s 1ms/step - loss: 0.0603 - acc: 0.9220\n",
      "Epoch 41/100\n",
      "3999/3999 [==============================] - 4s 1ms/step - loss: 0.0595 - acc: 0.9220\n",
      "Epoch 42/100\n",
      "3999/3999 [==============================] - 4s 1ms/step - loss: 0.0588 - acc: 0.9242\n",
      "Epoch 43/100\n",
      "3999/3999 [==============================] - 4s 1ms/step - loss: 0.0585 - acc: 0.9225\n",
      "Epoch 44/100\n",
      "3999/3999 [==============================] - 4s 1ms/step - loss: 0.0585 - acc: 0.9222\n",
      "Epoch 45/100\n",
      "3999/3999 [==============================] - 4s 1ms/step - loss: 0.0567 - acc: 0.9217\n",
      "Epoch 46/100\n",
      "3999/3999 [==============================] - 4s 1ms/step - loss: 0.0567 - acc: 0.9242\n",
      "Epoch 47/100\n",
      "3999/3999 [==============================] - 4s 1ms/step - loss: 0.0572 - acc: 0.9215\n",
      "Epoch 48/100\n",
      "3999/3999 [==============================] - 4s 1ms/step - loss: 0.0559 - acc: 0.9245\n",
      "Epoch 49/100\n",
      "3999/3999 [==============================] - 4s 1ms/step - loss: 0.0560 - acc: 0.9220\n",
      "Epoch 50/100\n",
      "3999/3999 [==============================] - 4s 1ms/step - loss: 0.0551 - acc: 0.9257\n",
      "Epoch 51/100\n",
      "3999/3999 [==============================] - 4s 1ms/step - loss: 0.0552 - acc: 0.9245\n",
      "Epoch 52/100\n",
      "3999/3999 [==============================] - 4s 1ms/step - loss: 0.0553 - acc: 0.9255\n",
      "Epoch 53/100\n",
      "3999/3999 [==============================] - 4s 1ms/step - loss: 0.0548 - acc: 0.9267\n",
      "Epoch 54/100\n",
      "3999/3999 [==============================] - 4s 1ms/step - loss: 0.0530 - acc: 0.9272\n",
      "Epoch 55/100\n",
      "3999/3999 [==============================] - 4s 1ms/step - loss: 0.0535 - acc: 0.9282\n",
      "Epoch 56/100\n",
      "3999/3999 [==============================] - 4s 1ms/step - loss: 0.0527 - acc: 0.9275\n",
      "Epoch 57/100\n",
      "3999/3999 [==============================] - 4s 1ms/step - loss: 0.0532 - acc: 0.9280\n",
      "Epoch 58/100\n",
      "3999/3999 [==============================] - 4s 1ms/step - loss: 0.0525 - acc: 0.9295\n",
      "Epoch 59/100\n",
      "3999/3999 [==============================] - 4s 1ms/step - loss: 0.0523 - acc: 0.9305\n",
      "Epoch 60/100\n",
      "3999/3999 [==============================] - 4s 1ms/step - loss: 0.0524 - acc: 0.9285\n",
      "Epoch 61/100\n",
      "3999/3999 [==============================] - 4s 1ms/step - loss: 0.0523 - acc: 0.9287\n",
      "Epoch 62/100\n",
      "3999/3999 [==============================] - 4s 1ms/step - loss: 0.0522 - acc: 0.9325\n",
      "Epoch 63/100\n",
      "3999/3999 [==============================] - 4s 1ms/step - loss: 0.0516 - acc: 0.9295\n",
      "Epoch 64/100\n",
      "3999/3999 [==============================] - 4s 1ms/step - loss: 0.0511 - acc: 0.9315\n",
      "Epoch 65/100\n",
      "3999/3999 [==============================] - 4s 1ms/step - loss: 0.0502 - acc: 0.9317\n",
      "Epoch 66/100\n",
      "3999/3999 [==============================] - 4s 1ms/step - loss: 0.0511 - acc: 0.9307\n",
      "Epoch 67/100\n",
      "3999/3999 [==============================] - 4s 1ms/step - loss: 0.0505 - acc: 0.9302\n",
      "Epoch 68/100\n",
      "3999/3999 [==============================] - 4s 1ms/step - loss: 0.0503 - acc: 0.9310\n",
      "Epoch 69/100\n",
      "3999/3999 [==============================] - 4s 1ms/step - loss: 0.0499 - acc: 0.9305\n",
      "Epoch 70/100\n",
      "3999/3999 [==============================] - 4s 1ms/step - loss: 0.0493 - acc: 0.9335\n",
      "Epoch 71/100\n",
      "3999/3999 [==============================] - 4s 1ms/step - loss: 0.0497 - acc: 0.9320\n",
      "Epoch 72/100\n",
      "3999/3999 [==============================] - 4s 1ms/step - loss: 0.0489 - acc: 0.9342\n",
      "Epoch 73/100\n",
      "3275/3999 [=======================>......] - ETA: 0s - loss: 0.0492 - acc: 0.9319"
     ]
    }
   ],
   "source": [
    "history = model.fit(train_data,train_labels,\n",
    "          batch_size=25,epochs=100,verbose=1)"
   ]
  },
  {
   "cell_type": "code",
   "execution_count": 8,
   "metadata": {},
   "outputs": [
    {
     "name": "stdout",
     "output_type": "stream",
     "text": [
      "[[0.01163042]\n",
      " [0.04114884]\n",
      " [0.05694044]\n",
      " ...\n",
      " [0.01088113]\n",
      " [0.00194567]\n",
      " [0.4783548 ]]\n",
      "         Label\n",
      "Id            \n",
      "0     0.011630\n",
      "1     0.041149\n",
      "2     0.056940\n",
      "3     0.006271\n",
      "4     0.007454\n",
      "...        ...\n",
      "3992  0.063679\n",
      "3993  0.005362\n",
      "3994  0.010881\n",
      "3995  0.001946\n",
      "3996  0.478355\n",
      "\n",
      "[3997 rows x 1 columns]\n"
     ]
    }
   ],
   "source": [
    "Y_pred = model.predict(test_data);\n",
    "print(Y_pred)\n",
    "df_pred = pd.DataFrame(Y_pred);\n",
    "df_pred.index.name = \"Id\"\n",
    "df_pred = pd.DataFrame.rename(df_pred,columns={0:\"Label\"})\n",
    "print(df_pred);\n",
    "df_pred.to_csv(\"output.csv\")"
   ]
  }
 ],
 "metadata": {
  "kernelspec": {
   "display_name": "Python 3",
   "language": "python",
   "name": "python3"
  },
  "language_info": {
   "codemirror_mode": {
    "name": "ipython",
    "version": 3
   },
   "file_extension": ".py",
   "mimetype": "text/x-python",
   "name": "python",
   "nbconvert_exporter": "python",
   "pygments_lexer": "ipython3",
   "version": "3.6.6"
  }
 },
 "nbformat": 4,
 "nbformat_minor": 1
}
