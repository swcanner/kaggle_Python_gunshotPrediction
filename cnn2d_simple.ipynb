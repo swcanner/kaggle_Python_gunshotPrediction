{
 "cells": [
  {
   "cell_type": "code",
   "execution_count": 1,
   "metadata": {
    "_cell_guid": "b1076dfc-b9ad-4769-8c92-a6c4dae69d19",
    "_uuid": "8f2839f25d086af736a60e9eeb907d3b93b6e0e5"
   },
   "outputs": [
    {
     "name": "stderr",
     "output_type": "stream",
     "text": [
      "Using TensorFlow backend.\n"
     ]
    },
    {
     "name": "stdout",
     "output_type": "stream",
     "text": [
      "/kaggle/input/audio-binary-classification/train_data.npy\n",
      "/kaggle/input/audio-binary-classification/sample_submission.csv\n",
      "/kaggle/input/audio-binary-classification/train_labels.csv\n",
      "/kaggle/input/audio-binary-classification/test_data.npy\n"
     ]
    }
   ],
   "source": [
    "# This Python 3 environment comes with many helpful analytics libraries installed\n",
    "# It is defined by the kaggle/python docker image: https://github.com/kaggle/docker-python\n",
    "# For example, here's several helpful packages to load in \n",
    "\n",
    "from __future__ import absolute_import\n",
    "from __future__ import division\n",
    "from __future__ import print_function\n",
    "\n",
    "\n",
    "%matplotlib inline\n",
    "import numpy as np\n",
    "import matplotlib.pyplot as plt\n",
    "import pandas as pd\n",
    "import argparse\n",
    "\n",
    "from keras.models import Sequential, Model\n",
    "from keras.layers import Dense, Dropout, Activation, Flatten, Lambda, Input\n",
    "from keras.layers import Conv1D, Conv2D, MaxPooling2D, MaxPooling1D, LeakyReLU\n",
    "from keras.losses import mse, binary_crossentropy\n",
    "from keras.utils import np_utils, plot_model\n",
    "from keras import backend as K\n",
    "from keras import optimizers\n",
    "from keras import regularizers\n",
    "# Input data files are available in the \"../input/\" directory.\n",
    "# For example, running this (by clicking run or pressing Shift+Enter) will list all files under the input directory\n",
    "\n",
    "import os\n",
    "for dirname, _, filenames in os.walk('/kaggle/input'):\n",
    "    for filename in filenames:\n",
    "        print(os.path.join(dirname, filename))\n",
    "\n",
    "# Any results you write to the current directory are saved as output."
   ]
  },
  {
   "cell_type": "code",
   "execution_count": 2,
   "metadata": {
    "_cell_guid": "79c7e3d0-c299-4dcb-8224-4455121ee9b0",
    "_uuid": "d629ff2d2480ee46fbb7e2d37f6b5fab8052498a"
   },
   "outputs": [
    {
     "name": "stdout",
     "output_type": "stream",
     "text": [
      "inputs loaded\n"
     ]
    }
   ],
   "source": [
    "train_data = np.load('/kaggle/input/audio-binary-classification/train_data.npy');\n",
    "test_data = np.load('/kaggle/input/audio-binary-classification/test_data.npy');\n",
    "\n",
    "\n",
    "print(\"inputs loaded\")"
   ]
  },
  {
   "cell_type": "code",
   "execution_count": 3,
   "metadata": {},
   "outputs": [
    {
     "name": "stdout",
     "output_type": "stream",
     "text": [
      "(3999, 44100)\n",
      "(3999, 44100, 1)\n"
     ]
    }
   ],
   "source": [
    "#Scale and Reshape\n",
    "train_data = train_data.astype('float32');\n",
    "test_data = test_data.astype('float32');\n",
    "\n",
    "#Normalize Data\n",
    "#train_data /= np.amax(test_data);\n",
    "#test_data /= np.amax(test_data);\n",
    "\n",
    "print(train_data.shape);\n",
    "\n",
    "train_data = train_data.reshape(-1,44100,1);\n",
    "test_data = test_data.reshape(-1,44100,1);\n",
    "\n",
    "input_shape = train_data.shape;\n",
    "print(input_shape);"
   ]
  },
  {
   "cell_type": "code",
   "execution_count": 4,
   "metadata": {},
   "outputs": [
    {
     "name": "stdout",
     "output_type": "stream",
     "text": [
      "[0 0 0 1 0 0 1 0 1 0]\n",
      "(3999,)\n"
     ]
    }
   ],
   "source": [
    "#Look at CSV and store as array\n",
    "train_labels = pd.read_csv(\"/kaggle/input/audio-binary-classification/train_labels.csv\");\n",
    "train_labels = train_labels.values;\n",
    "train_labels = train_labels[:,1];\n",
    "print(train_labels[:10]);\n",
    "print(train_labels.shape)"
   ]
  },
  {
   "cell_type": "code",
   "execution_count": 5,
   "metadata": {},
   "outputs": [
    {
     "data": {
      "text/plain": [
       "'\\n#Modify data\\nx_data = np.zeros( (train_data.shape[0] * 2 + 250, train_data.shape[1],1) );\\ny_data = np.zeros( (train_labels.shape[0] * 2 + 250))\\n\\nx_data[:3999,:,0] = train_data[:3999,:,0];\\ny_data[:3999] = train_labels[:3999];\\n\\nfor a in range(train_data.shape[0]):\\n    s = np.random.normal(1,.02,44100);\\n    x_data[a+3999,:,0] = np.multiply(x_data[a,:,0],s);\\n    y_data[a+3999] = train_labels[a];\\n        \\nb = 0;\\n\\nfor a in range(train_data.shape[0]):\\n    if(train_labels[a] == 1):\\n        s = np.random.normal(1,.02,44100);\\n        x_data[2*3999+b,:,0] = np.multiply(x_data[a,:,0],s);\\n        y_data[2*3999+b] = train_labels[a];\\n        b += 1;\\n    if(b >= 250):\\n        break;\\n        \\nprint(\"data made noisey\")\\n'"
      ]
     },
     "execution_count": 5,
     "metadata": {},
     "output_type": "execute_result"
    }
   ],
   "source": [
    "'''\n",
    "#Modify data\n",
    "x_data = np.zeros( (train_data.shape[0] * 2 + 250, train_data.shape[1],1) );\n",
    "y_data = np.zeros( (train_labels.shape[0] * 2 + 250))\n",
    "\n",
    "x_data[:3999,:,0] = train_data[:3999,:,0];\n",
    "y_data[:3999] = train_labels[:3999];\n",
    "\n",
    "for a in range(train_data.shape[0]):\n",
    "    s = np.random.normal(1,.02,44100);\n",
    "    x_data[a+3999,:,0] = np.multiply(x_data[a,:,0],s);\n",
    "    y_data[a+3999] = train_labels[a];\n",
    "        \n",
    "b = 0;\n",
    "\n",
    "for a in range(train_data.shape[0]):\n",
    "    if(train_labels[a] == 1):\n",
    "        s = np.random.normal(1,.02,44100);\n",
    "        x_data[2*3999+b,:,0] = np.multiply(x_data[a,:,0],s);\n",
    "        y_data[2*3999+b] = train_labels[a];\n",
    "        b += 1;\n",
    "    if(b >= 250):\n",
    "        break;\n",
    "        \n",
    "print(\"data made noisey\")\n",
    "'''"
   ]
  },
  {
   "cell_type": "code",
   "execution_count": 6,
   "metadata": {},
   "outputs": [],
   "source": [
    "x_data = train_data;\n",
    "y_data = train_labels;"
   ]
  },
  {
   "cell_type": "code",
   "execution_count": 7,
   "metadata": {},
   "outputs": [],
   "source": [
    "#Reshape the data and make this bad a 2D bad boy\n",
    "x_data = x_data.reshape(-1,210,210,1);\n",
    "test_data = test_data.reshape(-1,210,210,1);"
   ]
  },
  {
   "cell_type": "code",
   "execution_count": 8,
   "metadata": {},
   "outputs": [
    {
     "name": "stdout",
     "output_type": "stream",
     "text": [
      "_________________________________________________________________\n",
      "Layer (type)                 Output Shape              Param #   \n",
      "=================================================================\n",
      "conv2d_1 (Conv2D)            (None, 205, 205, 128)     4736      \n",
      "_________________________________________________________________\n",
      "leaky_re_lu_1 (LeakyReLU)    (None, 205, 205, 128)     0         \n",
      "_________________________________________________________________\n",
      "max_pooling2d_1 (MaxPooling2 (None, 51, 51, 128)       0         \n",
      "_________________________________________________________________\n",
      "dropout_1 (Dropout)          (None, 51, 51, 128)       0         \n",
      "_________________________________________________________________\n",
      "conv2d_2 (Conv2D)            (None, 49, 49, 64)        73792     \n",
      "_________________________________________________________________\n",
      "leaky_re_lu_2 (LeakyReLU)    (None, 49, 49, 64)        0         \n",
      "_________________________________________________________________\n",
      "max_pooling2d_2 (MaxPooling2 (None, 24, 24, 64)        0         \n",
      "_________________________________________________________________\n",
      "dropout_2 (Dropout)          (None, 24, 24, 64)        0         \n",
      "_________________________________________________________________\n",
      "flatten_1 (Flatten)          (None, 36864)             0         \n",
      "_________________________________________________________________\n",
      "dense_1 (Dense)              (None, 64)                2359360   \n",
      "_________________________________________________________________\n",
      "leaky_re_lu_3 (LeakyReLU)    (None, 64)                0         \n",
      "_________________________________________________________________\n",
      "dropout_3 (Dropout)          (None, 64)                0         \n",
      "_________________________________________________________________\n",
      "dense_2 (Dense)              (None, 32)                2080      \n",
      "_________________________________________________________________\n",
      "leaky_re_lu_4 (LeakyReLU)    (None, 32)                0         \n",
      "_________________________________________________________________\n",
      "dropout_4 (Dropout)          (None, 32)                0         \n",
      "_________________________________________________________________\n",
      "dense_3 (Dense)              (None, 1)                 33        \n",
      "=================================================================\n",
      "Total params: 2,440,001\n",
      "Trainable params: 2,440,001\n",
      "Non-trainable params: 0\n",
      "_________________________________________________________________\n"
     ]
    }
   ],
   "source": [
    "# create convolution neural network\n",
    "model = Sequential()\n",
    "model.add(Conv2D(128, kernel_size=(6,6),\n",
    "                 input_shape=(210,210,1)))\n",
    "model.add(LeakyReLU(alpha=0.05))\n",
    "model.add(MaxPooling2D(pool_size=(4,4)))\n",
    "model.add(Dropout(0.45))\n",
    "\n",
    "model.add(Conv2D(64, (3,3)))\n",
    "model.add(LeakyReLU(alpha=0.05))\n",
    "model.add(MaxPooling2D(pool_size=(2,2)))\n",
    "model.add(Dropout(0.33))\n",
    "\n",
    "model.add(Flatten())\n",
    "model.add(Dense(64))\n",
    "model.add(LeakyReLU(alpha=0.05))\n",
    "model.add(Dropout(0.33))\n",
    "\n",
    "model.add(Dense(32))\n",
    "model.add(LeakyReLU(alpha=0.05))\n",
    "model.add(Dropout(0.5))\n",
    "\n",
    "model.add(Dense(1, activation='sigmoid'))\n",
    "\n",
    "model.summary();"
   ]
  },
  {
   "cell_type": "code",
   "execution_count": 9,
   "metadata": {},
   "outputs": [],
   "source": [
    "#Compile model\n",
    "sgd = optimizers.SGD(lr=.01);\n",
    "model.compile(loss='MSE', \n",
    "              optimizer='sgd', \n",
    "              metrics=['accuracy'])"
   ]
  },
  {
   "cell_type": "code",
   "execution_count": 10,
   "metadata": {},
   "outputs": [
    {
     "name": "stdout",
     "output_type": "stream",
     "text": [
      "Epoch 1/500\n",
      "3999/3999 [==============================] - 9s 2ms/step - loss: 0.1313 - acc: 0.8725\n",
      "Epoch 2/500\n",
      "3999/3999 [==============================] - 6s 2ms/step - loss: 0.1096 - acc: 0.8772\n",
      "Epoch 3/500\n",
      "3999/3999 [==============================] - 6s 2ms/step - loss: 0.0999 - acc: 0.8780\n",
      "Epoch 4/500\n",
      "3999/3999 [==============================] - 6s 2ms/step - loss: 0.0859 - acc: 0.8882\n",
      "Epoch 5/500\n",
      "3999/3999 [==============================] - 6s 2ms/step - loss: 0.0795 - acc: 0.8980\n",
      "Epoch 6/500\n",
      "3999/3999 [==============================] - 6s 2ms/step - loss: 0.0739 - acc: 0.9070\n",
      "Epoch 7/500\n",
      "3999/3999 [==============================] - 6s 2ms/step - loss: 0.0719 - acc: 0.9097\n",
      "Epoch 8/500\n",
      "3999/3999 [==============================] - 6s 2ms/step - loss: 0.0694 - acc: 0.9140\n",
      "Epoch 9/500\n",
      "3999/3999 [==============================] - 6s 2ms/step - loss: 0.0675 - acc: 0.9205\n",
      "Epoch 10/500\n",
      "3999/3999 [==============================] - 6s 2ms/step - loss: 0.0662 - acc: 0.9165\n",
      "Epoch 11/500\n",
      "3999/3999 [==============================] - 6s 2ms/step - loss: 0.0670 - acc: 0.9175\n",
      "Epoch 12/500\n",
      "3999/3999 [==============================] - 6s 2ms/step - loss: 0.0651 - acc: 0.9202\n",
      "Epoch 13/500\n",
      "3999/3999 [==============================] - 6s 2ms/step - loss: 0.0644 - acc: 0.9220\n",
      "Epoch 14/500\n",
      "3999/3999 [==============================] - 6s 2ms/step - loss: 0.0642 - acc: 0.9205\n",
      "Epoch 15/500\n",
      "3999/3999 [==============================] - 6s 2ms/step - loss: 0.0637 - acc: 0.9215\n",
      "Epoch 16/500\n",
      "3999/3999 [==============================] - 6s 2ms/step - loss: 0.0638 - acc: 0.9215\n",
      "Epoch 17/500\n",
      "3999/3999 [==============================] - 6s 2ms/step - loss: 0.0625 - acc: 0.9225\n",
      "Epoch 18/500\n",
      "3999/3999 [==============================] - 6s 2ms/step - loss: 0.0629 - acc: 0.9202\n",
      "Epoch 19/500\n",
      "3999/3999 [==============================] - 6s 2ms/step - loss: 0.0626 - acc: 0.9235\n",
      "Epoch 20/500\n",
      "3999/3999 [==============================] - 6s 2ms/step - loss: 0.0613 - acc: 0.9232\n",
      "Epoch 21/500\n",
      "3999/3999 [==============================] - 6s 2ms/step - loss: 0.0594 - acc: 0.9255\n",
      "Epoch 22/500\n",
      "3999/3999 [==============================] - 6s 2ms/step - loss: 0.0607 - acc: 0.9262\n",
      "Epoch 23/500\n",
      "3999/3999 [==============================] - 6s 2ms/step - loss: 0.0608 - acc: 0.9217\n",
      "Epoch 24/500\n",
      "3999/3999 [==============================] - 6s 2ms/step - loss: 0.0596 - acc: 0.9220\n",
      "Epoch 25/500\n",
      "3999/3999 [==============================] - 6s 2ms/step - loss: 0.0593 - acc: 0.9210\n",
      "Epoch 26/500\n",
      "3999/3999 [==============================] - 6s 2ms/step - loss: 0.0584 - acc: 0.9222\n",
      "Epoch 27/500\n",
      "3999/3999 [==============================] - 6s 2ms/step - loss: 0.0585 - acc: 0.9212\n",
      "Epoch 28/500\n",
      "3999/3999 [==============================] - 6s 2ms/step - loss: 0.0578 - acc: 0.9260\n",
      "Epoch 29/500\n",
      "3999/3999 [==============================] - 6s 2ms/step - loss: 0.0578 - acc: 0.9255\n",
      "Epoch 30/500\n",
      "3999/3999 [==============================] - 6s 2ms/step - loss: 0.0572 - acc: 0.9262\n",
      "Epoch 31/500\n",
      "3999/3999 [==============================] - 6s 2ms/step - loss: 0.0557 - acc: 0.9247\n",
      "Epoch 32/500\n",
      "3999/3999 [==============================] - 6s 2ms/step - loss: 0.0562 - acc: 0.9265\n",
      "Epoch 33/500\n",
      "3999/3999 [==============================] - 6s 2ms/step - loss: 0.0562 - acc: 0.9252\n",
      "Epoch 34/500\n",
      "3999/3999 [==============================] - 6s 2ms/step - loss: 0.0563 - acc: 0.9270\n",
      "Epoch 35/500\n",
      "3999/3999 [==============================] - 6s 2ms/step - loss: 0.0558 - acc: 0.9295\n",
      "Epoch 36/500\n",
      "3999/3999 [==============================] - 6s 2ms/step - loss: 0.0549 - acc: 0.9262\n",
      "Epoch 37/500\n",
      "3999/3999 [==============================] - 6s 2ms/step - loss: 0.0542 - acc: 0.9260\n",
      "Epoch 38/500\n",
      "3999/3999 [==============================] - 6s 2ms/step - loss: 0.0538 - acc: 0.9315\n",
      "Epoch 39/500\n",
      "3999/3999 [==============================] - 6s 2ms/step - loss: 0.0553 - acc: 0.9280\n",
      "Epoch 40/500\n",
      "3999/3999 [==============================] - 6s 2ms/step - loss: 0.0546 - acc: 0.9282\n",
      "Epoch 41/500\n",
      "3999/3999 [==============================] - 6s 2ms/step - loss: 0.0544 - acc: 0.9300\n",
      "Epoch 42/500\n",
      "3999/3999 [==============================] - 6s 2ms/step - loss: 0.0538 - acc: 0.9310\n",
      "Epoch 43/500\n",
      "3999/3999 [==============================] - 6s 2ms/step - loss: 0.0541 - acc: 0.9307\n",
      "Epoch 44/500\n",
      "3999/3999 [==============================] - 6s 2ms/step - loss: 0.0544 - acc: 0.9275\n",
      "Epoch 45/500\n",
      "3999/3999 [==============================] - 6s 2ms/step - loss: 0.0532 - acc: 0.9287\n",
      "Epoch 46/500\n",
      "3999/3999 [==============================] - 6s 2ms/step - loss: 0.0523 - acc: 0.9317\n",
      "Epoch 47/500\n",
      "3999/3999 [==============================] - 6s 2ms/step - loss: 0.0517 - acc: 0.9310\n",
      "Epoch 48/500\n",
      "3999/3999 [==============================] - 6s 2ms/step - loss: 0.0527 - acc: 0.9275\n",
      "Epoch 49/500\n",
      "3999/3999 [==============================] - 6s 2ms/step - loss: 0.0532 - acc: 0.9277\n",
      "Epoch 50/500\n",
      "3999/3999 [==============================] - 6s 2ms/step - loss: 0.0520 - acc: 0.9295\n",
      "Epoch 51/500\n",
      "3999/3999 [==============================] - 6s 2ms/step - loss: 0.0526 - acc: 0.9282\n",
      "Epoch 52/500\n",
      "3999/3999 [==============================] - 6s 2ms/step - loss: 0.0508 - acc: 0.9310\n",
      "Epoch 53/500\n",
      "3999/3999 [==============================] - 6s 2ms/step - loss: 0.0506 - acc: 0.9325\n",
      "Epoch 54/500\n",
      "3999/3999 [==============================] - 6s 2ms/step - loss: 0.0522 - acc: 0.9307\n",
      "Epoch 55/500\n",
      "3999/3999 [==============================] - 6s 2ms/step - loss: 0.0503 - acc: 0.9347\n",
      "Epoch 56/500\n",
      "3999/3999 [==============================] - 6s 2ms/step - loss: 0.0513 - acc: 0.9305\n",
      "Epoch 57/500\n",
      "3999/3999 [==============================] - 6s 2ms/step - loss: 0.0519 - acc: 0.9307\n",
      "Epoch 58/500\n",
      "3999/3999 [==============================] - 6s 2ms/step - loss: 0.0513 - acc: 0.9305\n",
      "Epoch 59/500\n",
      "3999/3999 [==============================] - 6s 2ms/step - loss: 0.0502 - acc: 0.9312\n",
      "Epoch 60/500\n",
      "3999/3999 [==============================] - 6s 2ms/step - loss: 0.0512 - acc: 0.9312\n",
      "Epoch 61/500\n",
      "3999/3999 [==============================] - 6s 2ms/step - loss: 0.0501 - acc: 0.9325\n",
      "Epoch 62/500\n",
      "3999/3999 [==============================] - 6s 2ms/step - loss: 0.0511 - acc: 0.9295\n",
      "Epoch 63/500\n",
      "3999/3999 [==============================] - 6s 2ms/step - loss: 0.0507 - acc: 0.9342\n",
      "Epoch 64/500\n",
      "3999/3999 [==============================] - 6s 2ms/step - loss: 0.0492 - acc: 0.9322\n",
      "Epoch 65/500\n",
      "3999/3999 [==============================] - 6s 2ms/step - loss: 0.0506 - acc: 0.9290\n",
      "Epoch 66/500\n",
      "3999/3999 [==============================] - 6s 2ms/step - loss: 0.0494 - acc: 0.9327\n",
      "Epoch 67/500\n",
      "3999/3999 [==============================] - 6s 2ms/step - loss: 0.0498 - acc: 0.9322\n",
      "Epoch 68/500\n",
      "3999/3999 [==============================] - 6s 2ms/step - loss: 0.0492 - acc: 0.9317\n",
      "Epoch 69/500\n",
      "3999/3999 [==============================] - 6s 2ms/step - loss: 0.0497 - acc: 0.9352\n",
      "Epoch 70/500\n",
      "3999/3999 [==============================] - 6s 2ms/step - loss: 0.0490 - acc: 0.9325\n",
      "Epoch 71/500\n",
      "3999/3999 [==============================] - 6s 2ms/step - loss: 0.0490 - acc: 0.9317\n",
      "Epoch 72/500\n",
      "3999/3999 [==============================] - 6s 2ms/step - loss: 0.0490 - acc: 0.9300\n",
      "Epoch 73/500\n",
      "3999/3999 [==============================] - 6s 2ms/step - loss: 0.0480 - acc: 0.9345\n",
      "Epoch 74/500\n",
      "3999/3999 [==============================] - 6s 2ms/step - loss: 0.0483 - acc: 0.9352\n",
      "Epoch 75/500\n",
      "3999/3999 [==============================] - 6s 2ms/step - loss: 0.0493 - acc: 0.9332\n",
      "Epoch 76/500\n",
      "3999/3999 [==============================] - 6s 2ms/step - loss: 0.0481 - acc: 0.9362\n",
      "Epoch 77/500\n",
      "3999/3999 [==============================] - 6s 2ms/step - loss: 0.0481 - acc: 0.9352\n",
      "Epoch 78/500\n",
      "3999/3999 [==============================] - 6s 2ms/step - loss: 0.0479 - acc: 0.9347\n",
      "Epoch 79/500\n",
      "3999/3999 [==============================] - 6s 2ms/step - loss: 0.0484 - acc: 0.9360\n",
      "Epoch 80/500\n",
      "3999/3999 [==============================] - 6s 2ms/step - loss: 0.0475 - acc: 0.9382\n",
      "Epoch 81/500\n",
      "3999/3999 [==============================] - 6s 2ms/step - loss: 0.0474 - acc: 0.9355\n",
      "Epoch 82/500\n",
      "3999/3999 [==============================] - 6s 2ms/step - loss: 0.0472 - acc: 0.9367\n",
      "Epoch 83/500\n",
      "3999/3999 [==============================] - 6s 2ms/step - loss: 0.0463 - acc: 0.9405\n",
      "Epoch 84/500\n",
      "3999/3999 [==============================] - 6s 2ms/step - loss: 0.0468 - acc: 0.9345\n",
      "Epoch 85/500\n",
      "3999/3999 [==============================] - 6s 2ms/step - loss: 0.0464 - acc: 0.9352\n",
      "Epoch 86/500\n",
      "3999/3999 [==============================] - 6s 2ms/step - loss: 0.0477 - acc: 0.9342\n",
      "Epoch 87/500\n",
      "1620/3999 [===========>..................] - ETA: 3s - loss: 0.0440 - acc: 0.9426"
     ]
    }
   ],
   "source": [
    "history = model.fit(x_data,y_data, shuffle=True,\n",
    "          batch_size=30,epochs=500,verbose=1)"
   ]
  },
  {
   "cell_type": "code",
   "execution_count": 11,
   "metadata": {},
   "outputs": [
    {
     "name": "stdout",
     "output_type": "stream",
     "text": [
      "[[2.6524067e-06]\n",
      " [4.8723817e-04]\n",
      " [3.8199127e-03]\n",
      " ...\n",
      " [3.0279160e-05]\n",
      " [0.0000000e+00]\n",
      " [9.8915917e-01]]\n",
      "             Label\n",
      "Id                \n",
      "0     2.652407e-06\n",
      "1     4.872382e-04\n",
      "2     3.819913e-03\n",
      "3     6.854534e-07\n",
      "4     5.960464e-07\n",
      "...            ...\n",
      "3992  3.289849e-03\n",
      "3993  1.192093e-07\n",
      "3994  3.027916e-05\n",
      "3995  0.000000e+00\n",
      "3996  9.891592e-01\n",
      "\n",
      "[3997 rows x 1 columns]\n"
     ]
    }
   ],
   "source": [
    "Y_pred = model.predict(test_data);\n",
    "print(Y_pred)\n",
    "df_pred = pd.DataFrame(Y_pred);\n",
    "df_pred.index.name = \"Id\"\n",
    "df_pred = pd.DataFrame.rename(df_pred,columns={0:\"Label\"})\n",
    "print(df_pred);\n",
    "df_pred.to_csv(\"output.csv\")"
   ]
  }
 ],
 "metadata": {
  "kernelspec": {
   "display_name": "Python 3",
   "language": "python",
   "name": "python3"
  },
  "language_info": {
   "codemirror_mode": {
    "name": "ipython",
    "version": 3
   },
   "file_extension": ".py",
   "mimetype": "text/x-python",
   "name": "python",
   "nbconvert_exporter": "python",
   "pygments_lexer": "ipython3",
   "version": "3.6.6"
  }
 },
 "nbformat": 4,
 "nbformat_minor": 1
}
